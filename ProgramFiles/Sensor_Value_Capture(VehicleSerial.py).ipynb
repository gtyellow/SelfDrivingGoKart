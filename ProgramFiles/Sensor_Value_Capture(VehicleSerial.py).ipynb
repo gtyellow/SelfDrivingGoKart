{
 "cells": [
  {
   "cell_type": "code",
   "execution_count": 1,
   "id": "7ac618a8",
   "metadata": {},
   "outputs": [],
   "source": [
    "#Must define port that the Arduino is plugged into such as 'COM4'\n",
    "\n",
    "port='COM4'"
   ]
  },
  {
   "cell_type": "code",
   "execution_count": 2,
   "id": "365b2081",
   "metadata": {},
   "outputs": [],
   "source": [
    "#Sensor_values_capture captures readings from steering sensor and throttle onto Arduino board\n",
    "\n",
    "import sys\n",
    "from pyfirmata import Arduino, util\n",
    "import time"
   ]
  },
  {
   "cell_type": "code",
   "execution_count": 5,
   "id": "0a094390",
   "metadata": {},
   "outputs": [],
   "source": [
    "# Steering sensor Pin #1,  The min and max can be edited after a calibration step\n",
    "\n",
    "mapValues = False  \n",
    "\n",
    "steerSensorPin = 1\n",
    "#minSteerSensorValue = 0.1253\n",
    "#maxSteerSensorValue = 0.3795\n",
    "minSteerSensorValue = 0.119\n",
    "maxSteerSensorValue = 0.4378"
   ]
  },
  {
   "cell_type": "code",
   "execution_count": 6,
   "id": "c4e0d497",
   "metadata": {},
   "outputs": [],
   "source": [
    "# Throttle Sensor Pin #2, the min and max can be edited after a calibration step\n",
    "\n",
    "throttleSensorPin = 2\n",
    "minThrottleSensorValue = 0.1700\n",
    "maxThrottleSensorValue = 0.7720\n",
    "\n",
    "minThrottlePWM = 0 \n",
    "maxThrottlePWM = 1.5 #real max 1\n",
    "\n",
    "minSteeringPWM = 0 \n",
    "maxSteeringPWM = 0.6 #real max 1\n",
    "\n",
    "reverseSteering = -1 # make 1 to reverse steering"
   ]
  },
  {
   "cell_type": "code",
   "execution_count": 7,
   "id": "0e14e548",
   "metadata": {},
   "outputs": [],
   "source": [
    "#Variables for some items.  I changed the arduinoNano variable from the original build to arduinoUno variable because I happen\n",
    "# to have an UNO.  The Nano should be big enough to handle this build but if you add more sensors, other inputs like brakes, \n",
    "#or robot arms, may need Uno.  Variable name does not matter if you use a Nano or Uno.\n",
    "\n",
    "\n",
    "arduinoUno = None\n",
    "leftPWM = None\n",
    "rightPWM = None \n",
    "rightEnable = 3\n",
    "leftEnable = 5 \n",
    "throttlePin = None\n",
    "\n",
    "#This code block appears to confirm if Arduino is connected and communicating as well as sensors.\n",
    "\n",
    "def connect(port):\n",
    "    global arduinoUno, leftPWM, rightPWM, leftEnable, rightEnable, throttlePin\n",
    "    if arduinoUno == None:\n",
    "        arduinoUno = Arduino(port)\n",
    "        it = util.Iterator(arduinoUno)\n",
    "        it.start()\n",
    "        arduinoUno.analog[steerSensorPin].enable_reporting()\n",
    "        arduinoUno.analog[throttleSensorPin].enable_reporting()\n",
    "        leftPWM = arduinoUno.get_pin('d:6:p')\n",
    "        rightPWM = arduinoUno.get_pin('d:9:p')\n",
    "        throttlePin = arduinoUno.get_pin('d:10:p')\n",
    "        arduinoUno.digital[rightEnable].write(1)\n",
    "        arduinoUno.digital[leftEnable].write(1)\n",
    "        return \"success\"\n",
    "    else:\n",
    "        return \"error\""
   ]
  },
  {
   "cell_type": "code",
   "execution_count": 8,
   "id": "a9570990",
   "metadata": {},
   "outputs": [],
   "source": [
    "#This code disconnects the arduino\n",
    "\n",
    "def disconnect():\n",
    "    global arduinoUno\n",
    "    board.digital[rightEnable].write(0)\n",
    "    board.digital[leftEnable].write(0)\n",
    "    writeValue(0,0)\n",
    "    arduinoUno.exit()"
   ]
  },
  {
   "cell_type": "code",
   "execution_count": 9,
   "id": "ac51e3a0",
   "metadata": {},
   "outputs": [],
   "source": [
    "#This code actually reads the value from the throttle and sensor.  It returns the steering position and throttle position\n",
    "\n",
    "\n",
    "def readValue():\n",
    "    global arduinoUno\n",
    "    if arduinoUno != None:\n",
    "        steerPosition = arduinoUno.analog[steerSensorPin].read()  \n",
    "        throttlePosition = arduinoUno.analog[throttleSensorPin].read() \n",
    "        #TODO translate value from min max to -1 1 and 0 1 for throttle\n",
    "        if(steerPosition != None and throttlePosition != None):\n",
    "            if(mapValues):\n",
    "                mappedSteeringPosition = mapSteerPisition(steerPosition, minSteerSensorValue, maxSteerSensorValue, -1, 1)\n",
    "                mappedThrottlePosition = mapThrottle(throttlePosition, minThrottleSensorValue, maxThrottleSensorValue, 0, 1)\n",
    "                #print(\"readed steeringposition > \" + str(mappedSteeringPosition) + \" readed throttle \" + str(mappedThrottlePosition))\n",
    "                return((mappedSteeringPosition * reverseSteering,mappedThrottlePosition))\n",
    "            else:\n",
    "                #print(\"readed steeringposition > \" + str(steerPosition) + \" readed throttle \" + str(throttlePosition))\n",
    "                return((steerPosition,throttlePosition))\n",
    "    else:\n",
    "        return(\"error\")\n"
   ]
  },
  {
   "cell_type": "code",
   "execution_count": 10,
   "id": "efa2edd0",
   "metadata": {},
   "outputs": [],
   "source": [
    "#This writes values for steering and throttle based on sensor readings\n",
    "\n",
    "def writeValue(left,right,throttle):\n",
    "    global leftPWM, rightPWM, leftEnable, rightEnable, throttlePin\n",
    "\n",
    "    mappedLeft = 0\n",
    "    mappedRight = 0\n",
    "\n",
    "    if left > 0:\n",
    "        rightPWM.write(0)\n",
    "        mappedLeft = round(map(left, -1, 1, minSteeringPWM, maxSteeringPWM),3)\n",
    "        leftPWM.write(mappedLeft)\n",
    "    elif right > 0:\n",
    "        leftPWM.write(0)\n",
    "        mappedRight = round(map(right, -1, 1, minSteeringPWM, maxSteeringPWM),3)\n",
    "        rightPWM.write(mappedRight)\n",
    "    else:\n",
    "        print(\"left right commando incorreect\")\n",
    "\n",
    "    mappedThrottle = round(map(throttle, 0, 1, minThrottlePWM, maxThrottlePWM),3)\n",
    "    #print(\"writing values left> \" + str(mappedLeft) + \" right> \" + str(mappedRight) + \" throttle> \" + str(mappedThrottle))\n",
    "    throttlePin.write(mappedThrottle)\n",
    "    "
   ]
  },
  {
   "cell_type": "code",
   "execution_count": 11,
   "id": "cccf2bd3",
   "metadata": {},
   "outputs": [],
   "source": [
    "#This returns the value for the throttle\n",
    "\n",
    "\n",
    "\n",
    "def mapThrottle (value, fromSource,  toSource,  fromTarget,  toTarget):\n",
    "    mappedThottle = (value - fromSource) / (toSource - fromSource) * (toTarget - fromTarget) + fromTarget\n",
    "    if mappedThottle > 1:\n",
    "        mappedThottle = 1\n",
    "    elif mappedThottle < 0:\n",
    "        mappedThottle = 0\n",
    "    return mappedThottle"
   ]
  },
  {
   "cell_type": "code",
   "execution_count": 9,
   "id": "1a7f57df",
   "metadata": {},
   "outputs": [],
   "source": [
    "#This returns the mapped steering position\n",
    "\n",
    "def mapSteerPisition (value, fromSource,  toSource,  fromTarget,  toTarget):\n",
    "    mappedSteerPisition = (value - fromSource) / (toSource - fromSource) * (toTarget - fromTarget) + fromTarget\n",
    "    if mappedSteerPisition > 1:\n",
    "        mappedSteerPisition = 1\n",
    "    elif mappedSteerPisition < -1:\n",
    "        mappedSteerPisition = -1\n",
    "    return mappedSteerPisition\n",
    "\n",
    "def map(value, fromSource,  toSource,  fromTarget,  toTarget):\n",
    "    return (value - fromSource) / (toSource - fromSource) * (toTarget - fromTarget) + fromTarget\n",
    "    \n",
    "\n",
    "#connect('/dev/ttyUSB0')\n",
    "#while(True):\n",
    "    #writeValue(1,0)\n",
    "    #time.sleep(10)\n",
    "    #disconnect()"
   ]
  },
  {
   "cell_type": "code",
   "execution_count": null,
   "id": "78de2a60",
   "metadata": {},
   "outputs": [],
   "source": []
  }
 ],
 "metadata": {
  "kernelspec": {
   "display_name": "Python 3 (ipykernel)",
   "language": "python",
   "name": "python3"
  },
  "language_info": {
   "codemirror_mode": {
    "name": "ipython",
    "version": 3
   },
   "file_extension": ".py",
   "mimetype": "text/x-python",
   "name": "python",
   "nbconvert_exporter": "python",
   "pygments_lexer": "ipython3",
   "version": "3.9.7"
  }
 },
 "nbformat": 4,
 "nbformat_minor": 5
}
