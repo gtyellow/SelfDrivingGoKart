{
 "cells": [
  {
   "cell_type": "code",
   "execution_count": 4,
   "id": "39d069d7",
   "metadata": {},
   "outputs": [],
   "source": [
    "import torch"
   ]
  },
  {
   "cell_type": "code",
   "execution_count": 7,
   "id": "d0199834",
   "metadata": {},
   "outputs": [
    {
     "name": "stdout",
     "output_type": "stream",
     "text": [
      "Requirement already satisfied: scikit-image in c:\\users\\jeffa\\anaconda3\\lib\\site-packages (0.18.3)\n",
      "Collecting scikit-image\n",
      "  Downloading scikit_image-0.19.3-cp39-cp39-win_amd64.whl (12.1 MB)\n",
      "Requirement already satisfied: tifffile>=2019.7.26 in c:\\users\\jeffa\\anaconda3\\lib\\site-packages (from scikit-image) (2021.7.2)\n",
      "Requirement already satisfied: PyWavelets>=1.1.1 in c:\\users\\jeffa\\anaconda3\\lib\\site-packages (from scikit-image) (1.1.1)\n",
      "Requirement already satisfied: packaging>=20.0 in c:\\users\\jeffa\\anaconda3\\lib\\site-packages (from scikit-image) (21.0)\n",
      "Requirement already satisfied: networkx>=2.2 in c:\\users\\jeffa\\anaconda3\\lib\\site-packages (from scikit-image) (2.6.3)\n",
      "Requirement already satisfied: scipy>=1.4.1 in c:\\users\\jeffa\\anaconda3\\lib\\site-packages (from scikit-image) (1.7.1)\n",
      "Requirement already satisfied: imageio>=2.4.1 in c:\\users\\jeffa\\anaconda3\\lib\\site-packages (from scikit-image) (2.9.0)\n",
      "Requirement already satisfied: pillow!=7.1.0,!=7.1.1,!=8.3.0,>=6.1.0 in c:\\users\\jeffa\\anaconda3\\lib\\site-packages (from scikit-image) (8.4.0)\n",
      "Requirement already satisfied: numpy>=1.17.0 in c:\\users\\jeffa\\anaconda3\\lib\\site-packages (from scikit-image) (1.20.3)\n",
      "Requirement already satisfied: pyparsing>=2.0.2 in c:\\users\\jeffa\\anaconda3\\lib\\site-packages (from packaging>=20.0->scikit-image) (3.0.4)\n",
      "Installing collected packages: scikit-image\n",
      "  Attempting uninstall: scikit-image\n",
      "    Found existing installation: scikit-image 0.18.3\n",
      "    Uninstalling scikit-image-0.18.3:\n",
      "      Successfully uninstalled scikit-image-0.18.3\n",
      "Successfully installed scikit-image-0.19.3\n"
     ]
    }
   ],
   "source": [
    "!pip install -U scikit-image"
   ]
  },
  {
   "cell_type": "code",
   "execution_count": 17,
   "id": "eaf5fc79",
   "metadata": {},
   "outputs": [],
   "source": [
    "import numpy as np\n",
    "#import OpenCV\n",
    "import sklearn\n",
    "import h5py\n",
    "import skimage\n",
    "#import pillow\n",
    "#import piexif\n",
    "import cffi\n",
    "import tqdm\n",
    "#import dominate\n",
    "#import tensorboardX\n",
    "#import opencv-python\n",
    "import nose\n",
    "#import ninja\n",
    "import pandas as pd"
   ]
  },
  {
   "cell_type": "code",
   "execution_count": 19,
   "id": "ca43c2cf",
   "metadata": {},
   "outputs": [
    {
     "ename": "SyntaxError",
     "evalue": "invalid syntax (Temp/ipykernel_16604/2282627641.py, line 1)",
     "output_type": "error",
     "traceback": [
      "\u001b[1;36m  File \u001b[1;32m\"C:\\Users\\jeffa\\AppData\\Local\\Temp/ipykernel_16604/2282627641.py\"\u001b[1;36m, line \u001b[1;32m1\u001b[0m\n\u001b[1;33m    CUDA_VISIBLE_DEVICES=0 SegmentationOnly.py --video pathToVideoFile\u001b[0m\n\u001b[1;37m                           ^\u001b[0m\n\u001b[1;31mSyntaxError\u001b[0m\u001b[1;31m:\u001b[0m invalid syntax\n"
     ]
    }
   ],
   "source": [
    "CUDA_VISIBLE_DEVICES=0 SegmentationOnly.py --video pathToVideoFile"
   ]
  },
  {
   "cell_type": "code",
   "execution_count": null,
   "id": "3f1d2ab1",
   "metadata": {},
   "outputs": [],
   "source": []
  }
 ],
 "metadata": {
  "kernelspec": {
   "display_name": "Python 3 (ipykernel)",
   "language": "python",
   "name": "python3"
  },
  "language_info": {
   "codemirror_mode": {
    "name": "ipython",
    "version": 3
   },
   "file_extension": ".py",
   "mimetype": "text/x-python",
   "name": "python",
   "nbconvert_exporter": "python",
   "pygments_lexer": "ipython3",
   "version": "3.9.7"
  }
 },
 "nbformat": 4,
 "nbformat_minor": 5
}
