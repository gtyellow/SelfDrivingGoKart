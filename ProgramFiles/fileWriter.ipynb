{
 "cells": [
  {
   "cell_type": "code",
   "execution_count": 24,
   "id": "d7e83c54",
   "metadata": {},
   "outputs": [],
   "source": [
    "#handels all writing to disk\n",
    "import os\n",
    "import cv2\n",
    "import datetime\n",
    "import json\n",
    "import math\n",
    "import pandas as pd\n",
    "\n",
    "dataName = None \n",
    "inImageWriter = None \n",
    "outImageWriter = None \n",
    "debugFile = None\n",
    "data_dir = None\n",
    "\n",
    "def setupWriter(debug):\n",
    "    global dataName, inImageWriter, outImageWriter, debugFile, data_dir\n",
    "\n",
    "    dataName = input(\"please type name of this run. This will be the name of the Data folder> \")\n",
    "\n",
    "    current_directory = os.getcwd()\n",
    "    data_dir = os.path.join(current_directory, dataName)\n",
    "    try:\n",
    "        os.mkdir(data_dir)\n",
    "        print(\"Directory \" , data_dir ,  \" Created \") \n",
    "    except FileExistsError:\n",
    "        print(\"Directory \" , data_dir ,  \" already exists\")\n",
    "\n",
    "    if debug:\n",
    "        debug_dir = os.path.join(current_directory, \"DEBUG_\" + dataName)\n",
    "        try:\n",
    "            os.mkdir(debug_dir)\n",
    "            print(\"Directory \" , debug_dir ,  \" Created \") \n",
    "        except FileExistsError:\n",
    "            print(\"Directory \" , debug_dir ,  \" already exists\")\n",
    "        \n",
    "        inImagePath = os.path.join(debug_dir, \"InImage.avi\")\n",
    "        inImageWriter = cv2.VideoWriter(inImagePath,cv2.VideoWriter_fourcc('M', 'J', 'P', 'G'), 10,(512,256))\n",
    "        outImagePath = os.path.join(debug_dir, \"OutImage.avi\")\n",
    "        outImageWriter = cv2.VideoWriter(outImagePath,cv2.VideoWriter_fourcc('M', 'J', 'P', 'G'), 10,(512,256))\n",
    "\n",
    "        debugFilePath = os.path.join(debug_dir, \"DebugMessage.txt\")\n",
    "        debugFile = open(debugFilePath, \"w\")\n",
    "\n",
    "#Train data \n",
    "def writeTrainData(angle, throttle, image, framecount):\n",
    "\n",
    "    camName = str(framecount) + '_cam-image_array_.jpg'\n",
    "    camPath = os.path.join(data_dir, camName)\n",
    "    cv2.imwrite(camPath, image) \n",
    "    json_data = {\"user/angle\": angle, \"cam/image_array\": camName, \"user/throttle\": throttle, \"user/mode\": \"user\"}\n",
    "    \n",
    "    jsonName = \"record_\" + str(framecount) + '.json'\n",
    "    jsonPath = os.path.join(data_dir, jsonName)\n",
    "    with open(jsonPath, \"w\") as write_file:\n",
    "        json.dump(json_data, write_file)\n",
    "    \n",
    "\n",
    "#Debugging messages\n",
    "def writeInDebugImage(InImage):\n",
    "    inImageWriter.write(InImage)\n",
    "\n",
    "def writeOutDebugImage(OutImage):\n",
    "    outImageWriter.write(OutImage)\n",
    "\n",
    "def writeAngleAndThrottle(angle, throttle, framecount):\n",
    "    debugFile.write(str(framecount) + \" angle: \" + str(angle) + \" throttle: \" + str(throttle))\n",
    "    debugFile.write(\"\\n\")\n",
    "\n",
    "def writeControlMessage(message):\n",
    "    debugFile.write(message)\n",
    "    debugFile.write(\"\\n\")"
   ]
  },
  {
   "cell_type": "code",
   "execution_count": 46,
   "id": "5e2d3738",
   "metadata": {},
   "outputs": [
    {
     "name": "stdout",
     "output_type": "stream",
     "text": [
      "please type name of this run. This will be the name of the Data folder> pleasework\n",
      "Directory  C:\\Users\\jeffa\\SelfDrivingGoKartFromATVToy\\pleasework  Created \n"
     ]
    }
   ],
   "source": [
    "setupWriter(False)"
   ]
  },
  {
   "cell_type": "code",
   "execution_count": 8,
   "id": "5677fb70",
   "metadata": {},
   "outputs": [],
   "source": [
    "out = cv2.VideoWriter(\"OcciRunBad\" + \".avi\", cv2.VideoWriter_fourcc('M','J','P','G'),10,(512,256))\n",
    "\n",
    "cap = cv2.VideoCapture(0)\n",
    "\n",
    "if (cap.isOpened()== False): \n",
    "  print(\"Error opening video stream or file\")"
   ]
  },
  {
   "cell_type": "code",
   "execution_count": 78,
   "id": "0b467700",
   "metadata": {},
   "outputs": [
    {
     "data": {
      "text/plain": [
       "'    \\n    jsonName = \"record_\" + str(framecount) + \\'.json\\'\\n    jsonPath = os.path.join(data_dir, jsonName)\\n    with open(jsonPath, \"w\") as write_file:\\n        json.dump(json_data, write_file)\\n'"
      ]
     },
     "execution_count": 78,
     "metadata": {},
     "output_type": "execute_result"
    }
   ],
   "source": [
    "def writeTrainData(angle, throttle, image, framecount):\n",
    "    global record_df\n",
    "\n",
    "    camName = str(framecount) + '_cam-image_array_.jpg'\n",
    "    camPath = os.path.join(data_dir, camName)\n",
    "    cv2.imwrite(camPath, image) \n",
    "    \n",
    "    dictionary={'image_num': camName, 'angle': angle, 'throttle%': throttle}\n",
    "\n",
    "\n",
    "    record_df = record_df.append(dictionary, ignore_index=True)\n",
    "    return record_df\n",
    "\n"
   ]
  },
  {
   "cell_type": "code",
   "execution_count": 84,
   "id": "b958079c",
   "metadata": {},
   "outputs": [],
   "source": [
    "cap = cv2.VideoCapture(0)\n",
    "\n",
    "# Check if camera opened successfully\n",
    "if (cap.isOpened()== False): \n",
    "    print(\"Error opening video stream or file\")\n",
    "\n",
    "count=0\n",
    "record_df = pd.DataFrame(columns=('image_num', 'angle', 'throttle%'))\n",
    "while(cap.isOpened()):\n",
    "    ret, frame = cap.read()\n",
    "    if ret == True:\n",
    "                \n",
    "        # Display the resulting frame\n",
    "        cv2.imshow('Frame',frame)\n",
    "        \n",
    "        writeTrainData(5, 80, frame, count)\n",
    "        count+=1\n",
    "\n",
    " \n",
    "        # Press Q on keyboard to  exit\n",
    "        if cv2.waitKey(25) & 0xFF == ord('q'):\n",
    "            break\n",
    " \n",
    "        # Break the loop\n",
    "    else: \n",
    "        break\n",
    " \n",
    "# When everything done, release the video capture object\n",
    "cap.release()\n",
    " \n",
    "# Closes all the frames\n",
    "cv2.destroyAllWindows()\n",
    "record_path=os.path.join(data_dir, 'results.csv')\n",
    "record_df.to_csv(record_path, index=False, header=False)"
   ]
  },
  {
   "cell_type": "code",
   "execution_count": 14,
   "id": "ae67e35a",
   "metadata": {},
   "outputs": [],
   "source": [
    "import cv2\n",
    "import numpy as np\n",
    " \n",
    "# Create a VideoCapture object and read from input file\n",
    "# If the input is the camera, pass 0 instead of the video file name\n",
    "cap = cv2.VideoCapture(0)\n",
    " \n",
    "# Check if camera opened successfully\n",
    "if (cap.isOpened()== False): \n",
    "  print(\"Error opening video stream or file\")\n",
    " \n",
    "# Read until video is completed\n",
    "while(cap.isOpened()):\n",
    "  # Capture frame-by-frame\n",
    "  ret, frame = cap.read()\n",
    "  if ret == True:\n",
    " \n",
    "    # Display the resulting frame\n",
    "    cv2.imshow('Frame',frame)\n",
    " \n",
    "    # Press Q on keyboard to  exit\n",
    "    if cv2.waitKey(25) & 0xFF == ord('q'):\n",
    "      break\n",
    " \n",
    "  # Break the loop\n",
    "  else: \n",
    "    break\n",
    " \n",
    "# When everything done, release the video capture object\n",
    "cap.release()\n",
    " \n",
    "# Closes all the frames\n",
    "cv2.destroyAllWindows()\n"
   ]
  },
  {
   "cell_type": "code",
   "execution_count": 86,
   "id": "7e8d6305",
   "metadata": {},
   "outputs": [],
   "source": [
    "path='C:/Users/jeffa/SelfDrivingGoKartFromATVToy/pleasework'\n",
    "\n",
    "for f in os.listdir(path):\n",
    "    if not f.endswith(\".csv\"):\n",
    "        continue\n",
    "        \n",
    "    os.remove(os.path.join(path, f))"
   ]
  },
  {
   "cell_type": "code",
   "execution_count": null,
   "id": "ad040731",
   "metadata": {},
   "outputs": [],
   "source": []
  }
 ],
 "metadata": {
  "kernelspec": {
   "display_name": "Python 3 (ipykernel)",
   "language": "python",
   "name": "python3"
  },
  "language_info": {
   "codemirror_mode": {
    "name": "ipython",
    "version": 3
   },
   "file_extension": ".py",
   "mimetype": "text/x-python",
   "name": "python",
   "nbconvert_exporter": "python",
   "pygments_lexer": "ipython3",
   "version": "3.9.7"
  }
 },
 "nbformat": 4,
 "nbformat_minor": 5
}
