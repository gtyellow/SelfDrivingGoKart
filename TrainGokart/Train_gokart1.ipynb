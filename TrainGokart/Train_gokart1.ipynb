{
  "nbformat": 4,
  "nbformat_minor": 0,
  "metadata": {
    "colab": {
      "provenance": [],
      "authorship_tag": "ABX9TyOzBoW5I5hkPWoUXzpLxFek",
      "include_colab_link": true
    },
    "kernelspec": {
      "name": "python3",
      "display_name": "Python 3"
    },
    "language_info": {
      "name": "python"
    }
  },
  "cells": [
    {
      "cell_type": "markdown",
      "metadata": {
        "id": "view-in-github",
        "colab_type": "text"
      },
      "source": [
        "<a href=\"https://colab.research.google.com/github/gtyellow/SelfDrivingGoKart/blob/main/TrainGokart/Train_gokart1.ipynb\" target=\"_parent\"><img src=\"https://colab.research.google.com/assets/colab-badge.svg\" alt=\"Open In Colab\"/></a>"
      ]
    },
    {
      "cell_type": "code",
      "execution_count": null,
      "metadata": {
        "id": "sbcAQrGrnofI"
      },
      "outputs": [],
      "source": [
        "import numpy as np\n",
        "\n",
        "import os\n",
        "\n",
        "## Keras\n",
        "\n",
        "import tensorflow as tf\n",
        "from tensorflow.keras.models import Sequential\n",
        "from tensorflow.keras.optimizers import Adam\n",
        "from tensorflow.keras.layers import Convolution2D, Flatten, Dense\n",
        "\n",
        "import cv2\n",
        "import pandas as pd\n",
        "import random\n",
        "import ntpath\n",
        "\n",
        "## Sklearn\n",
        "from sklearn.utils import shuffle\n",
        "from sklearn.model_selection import train_test_split\n",
        "\n",
        "\n",
        "#matplotlib for image augmentation and loading image\n",
        "import matplotlib.image as  mpimg\n",
        "from imgaug import augmenters as iaa\n",
        "import matplotlib.pyplot as plt"
      ]
    },
    {
      "cell_type": "code",
      "source": [
        "\n",
        "\n",
        "datadir ='/content/'\n",
        "columns = ['camera_image', 'steering_angle', 'throttle%']\n",
        "data_map = pd.read_csv(('/content/results.csv'), names = columns)\n",
        "pd.set_option('display.max_colwidth', -1)\n"
      ],
      "metadata": {
        "colab": {
          "base_uri": "https://localhost:8080/"
        },
        "id": "nSppF1lSrU4V",
        "outputId": "8e671ce5-df94-4562-ed1f-9a14479eaaac"
      },
      "execution_count": null,
      "outputs": [
        {
          "output_type": "stream",
          "name": "stderr",
          "text": [
            "/usr/local/lib/python3.7/dist-packages/ipykernel_launcher.py:4: FutureWarning: Passing a negative integer is deprecated in version 1.0 and will not be supported in future version. Instead, use None to not limit the column width.\n",
            "  after removing the cwd from sys.path.\n"
          ]
        }
      ]
    },
    {
      "cell_type": "code",
      "source": [
        "\n",
        "\n",
        "min_max_df=pd.DataFrame(data=[[data_map['steering_angle'].min(), data_map['throttle%'].min()],\n",
        "                              [data_map['steering_angle'].max(), data_map['throttle%'].max()]],\n",
        "                              columns=['steering_angle', 'throttle%'],\n",
        "                              index=['min','max'])\n"
      ],
      "metadata": {
        "id": "pUo6dy-Ur8QQ"
      },
      "execution_count": null,
      "outputs": []
    },
    {
      "cell_type": "code",
      "source": [
        "print(min_max_df)"
      ],
      "metadata": {
        "colab": {
          "base_uri": "https://localhost:8080/"
        },
        "id": "u06gb7sQsg7k",
        "outputId": "994300a6-7234-474c-ff29-95faad3945a8"
      },
      "execution_count": null,
      "outputs": [
        {
          "output_type": "stream",
          "name": "stdout",
          "text": [
            "     steering_angle  throttle%\n",
            "min -21.942529       0.5      \n",
            "max  23.352490       102.5    \n"
          ]
        }
      ]
    },
    {
      "cell_type": "code",
      "source": [
        "data_map"
      ],
      "metadata": {
        "colab": {
          "base_uri": "https://localhost:8080/",
          "height": 424
        },
        "id": "2QONk1tPwMHU",
        "outputId": "8a2b7e52-387b-4efb-b5b1-808829466592"
      },
      "execution_count": null,
      "outputs": [
        {
          "output_type": "execute_result",
          "data": {
            "text/plain": [
              "                 camera_image  steering_angle  throttle%\n",
              "0    0_cam-image_array_.jpg    1.850575        55.1     \n",
              "1    1_cam-image_array_.jpg    1.674330        52.2     \n",
              "2    2_cam-image_array_.jpg    1.850575        46.1     \n",
              "3    3_cam-image_array_.jpg    1.498084        33.2     \n",
              "4    4_cam-image_array_.jpg    1.850575        36.7     \n",
              "..                      ...         ...         ...     \n",
              "538  538_cam-image_array_.jpg  7.137931        65.7     \n",
              "539  539_cam-image_array_.jpg  7.137931        59.6     \n",
              "540  540_cam-image_array_.jpg  6.961686        59.6     \n",
              "541  541_cam-image_array_.jpg  7.137931        52.9     \n",
              "542  542_cam-image_array_.jpg  7.137931        55.1     \n",
              "\n",
              "[543 rows x 3 columns]"
            ],
            "text/html": [
              "\n",
              "  <div id=\"df-f9f88d25-261c-4a4c-bc13-b3e3e75fdd83\">\n",
              "    <div class=\"colab-df-container\">\n",
              "      <div>\n",
              "<style scoped>\n",
              "    .dataframe tbody tr th:only-of-type {\n",
              "        vertical-align: middle;\n",
              "    }\n",
              "\n",
              "    .dataframe tbody tr th {\n",
              "        vertical-align: top;\n",
              "    }\n",
              "\n",
              "    .dataframe thead th {\n",
              "        text-align: right;\n",
              "    }\n",
              "</style>\n",
              "<table border=\"1\" class=\"dataframe\">\n",
              "  <thead>\n",
              "    <tr style=\"text-align: right;\">\n",
              "      <th></th>\n",
              "      <th>camera_image</th>\n",
              "      <th>steering_angle</th>\n",
              "      <th>throttle%</th>\n",
              "    </tr>\n",
              "  </thead>\n",
              "  <tbody>\n",
              "    <tr>\n",
              "      <th>0</th>\n",
              "      <td>0_cam-image_array_.jpg</td>\n",
              "      <td>1.850575</td>\n",
              "      <td>55.1</td>\n",
              "    </tr>\n",
              "    <tr>\n",
              "      <th>1</th>\n",
              "      <td>1_cam-image_array_.jpg</td>\n",
              "      <td>1.674330</td>\n",
              "      <td>52.2</td>\n",
              "    </tr>\n",
              "    <tr>\n",
              "      <th>2</th>\n",
              "      <td>2_cam-image_array_.jpg</td>\n",
              "      <td>1.850575</td>\n",
              "      <td>46.1</td>\n",
              "    </tr>\n",
              "    <tr>\n",
              "      <th>3</th>\n",
              "      <td>3_cam-image_array_.jpg</td>\n",
              "      <td>1.498084</td>\n",
              "      <td>33.2</td>\n",
              "    </tr>\n",
              "    <tr>\n",
              "      <th>4</th>\n",
              "      <td>4_cam-image_array_.jpg</td>\n",
              "      <td>1.850575</td>\n",
              "      <td>36.7</td>\n",
              "    </tr>\n",
              "    <tr>\n",
              "      <th>...</th>\n",
              "      <td>...</td>\n",
              "      <td>...</td>\n",
              "      <td>...</td>\n",
              "    </tr>\n",
              "    <tr>\n",
              "      <th>538</th>\n",
              "      <td>538_cam-image_array_.jpg</td>\n",
              "      <td>7.137931</td>\n",
              "      <td>65.7</td>\n",
              "    </tr>\n",
              "    <tr>\n",
              "      <th>539</th>\n",
              "      <td>539_cam-image_array_.jpg</td>\n",
              "      <td>7.137931</td>\n",
              "      <td>59.6</td>\n",
              "    </tr>\n",
              "    <tr>\n",
              "      <th>540</th>\n",
              "      <td>540_cam-image_array_.jpg</td>\n",
              "      <td>6.961686</td>\n",
              "      <td>59.6</td>\n",
              "    </tr>\n",
              "    <tr>\n",
              "      <th>541</th>\n",
              "      <td>541_cam-image_array_.jpg</td>\n",
              "      <td>7.137931</td>\n",
              "      <td>52.9</td>\n",
              "    </tr>\n",
              "    <tr>\n",
              "      <th>542</th>\n",
              "      <td>542_cam-image_array_.jpg</td>\n",
              "      <td>7.137931</td>\n",
              "      <td>55.1</td>\n",
              "    </tr>\n",
              "  </tbody>\n",
              "</table>\n",
              "<p>543 rows × 3 columns</p>\n",
              "</div>\n",
              "      <button class=\"colab-df-convert\" onclick=\"convertToInteractive('df-f9f88d25-261c-4a4c-bc13-b3e3e75fdd83')\"\n",
              "              title=\"Convert this dataframe to an interactive table.\"\n",
              "              style=\"display:none;\">\n",
              "        \n",
              "  <svg xmlns=\"http://www.w3.org/2000/svg\" height=\"24px\"viewBox=\"0 0 24 24\"\n",
              "       width=\"24px\">\n",
              "    <path d=\"M0 0h24v24H0V0z\" fill=\"none\"/>\n",
              "    <path d=\"M18.56 5.44l.94 2.06.94-2.06 2.06-.94-2.06-.94-.94-2.06-.94 2.06-2.06.94zm-11 1L8.5 8.5l.94-2.06 2.06-.94-2.06-.94L8.5 2.5l-.94 2.06-2.06.94zm10 10l.94 2.06.94-2.06 2.06-.94-2.06-.94-.94-2.06-.94 2.06-2.06.94z\"/><path d=\"M17.41 7.96l-1.37-1.37c-.4-.4-.92-.59-1.43-.59-.52 0-1.04.2-1.43.59L10.3 9.45l-7.72 7.72c-.78.78-.78 2.05 0 2.83L4 21.41c.39.39.9.59 1.41.59.51 0 1.02-.2 1.41-.59l7.78-7.78 2.81-2.81c.8-.78.8-2.07 0-2.86zM5.41 20L4 18.59l7.72-7.72 1.47 1.35L5.41 20z\"/>\n",
              "  </svg>\n",
              "      </button>\n",
              "      \n",
              "  <style>\n",
              "    .colab-df-container {\n",
              "      display:flex;\n",
              "      flex-wrap:wrap;\n",
              "      gap: 12px;\n",
              "    }\n",
              "\n",
              "    .colab-df-convert {\n",
              "      background-color: #E8F0FE;\n",
              "      border: none;\n",
              "      border-radius: 50%;\n",
              "      cursor: pointer;\n",
              "      display: none;\n",
              "      fill: #1967D2;\n",
              "      height: 32px;\n",
              "      padding: 0 0 0 0;\n",
              "      width: 32px;\n",
              "    }\n",
              "\n",
              "    .colab-df-convert:hover {\n",
              "      background-color: #E2EBFA;\n",
              "      box-shadow: 0px 1px 2px rgba(60, 64, 67, 0.3), 0px 1px 3px 1px rgba(60, 64, 67, 0.15);\n",
              "      fill: #174EA6;\n",
              "    }\n",
              "\n",
              "    [theme=dark] .colab-df-convert {\n",
              "      background-color: #3B4455;\n",
              "      fill: #D2E3FC;\n",
              "    }\n",
              "\n",
              "    [theme=dark] .colab-df-convert:hover {\n",
              "      background-color: #434B5C;\n",
              "      box-shadow: 0px 1px 3px 1px rgba(0, 0, 0, 0.15);\n",
              "      filter: drop-shadow(0px 1px 2px rgba(0, 0, 0, 0.3));\n",
              "      fill: #FFFFFF;\n",
              "    }\n",
              "  </style>\n",
              "\n",
              "      <script>\n",
              "        const buttonEl =\n",
              "          document.querySelector('#df-f9f88d25-261c-4a4c-bc13-b3e3e75fdd83 button.colab-df-convert');\n",
              "        buttonEl.style.display =\n",
              "          google.colab.kernel.accessAllowed ? 'block' : 'none';\n",
              "\n",
              "        async function convertToInteractive(key) {\n",
              "          const element = document.querySelector('#df-f9f88d25-261c-4a4c-bc13-b3e3e75fdd83');\n",
              "          const dataTable =\n",
              "            await google.colab.kernel.invokeFunction('convertToInteractive',\n",
              "                                                     [key], {});\n",
              "          if (!dataTable) return;\n",
              "\n",
              "          const docLinkHtml = 'Like what you see? Visit the ' +\n",
              "            '<a target=\"_blank\" href=https://colab.research.google.com/notebooks/data_table.ipynb>data table notebook</a>'\n",
              "            + ' to learn more about interactive tables.';\n",
              "          element.innerHTML = '';\n",
              "          dataTable['output_type'] = 'display_data';\n",
              "          await google.colab.output.renderOutput(dataTable, element);\n",
              "          const docLink = document.createElement('div');\n",
              "          docLink.innerHTML = docLinkHtml;\n",
              "          element.appendChild(docLink);\n",
              "        }\n",
              "      </script>\n",
              "    </div>\n",
              "  </div>\n",
              "  "
            ]
          },
          "metadata": {},
          "execution_count": 6
        }
      ]
    },
    {
      "cell_type": "code",
      "source": [
        "#split into train and test set, 80%\n",
        "data_map['camera_image']= '/content/'+data_map['camera_image']\n",
        "\n",
        "x_train, x_test = train_test_split(data_map, test_size = 0.2, shuffle=True)"
      ],
      "metadata": {
        "id": "5qsll0CB9fPF"
      },
      "execution_count": null,
      "outputs": []
    },
    {
      "cell_type": "code",
      "source": [
        "#pull out Y values.  These are our dependent variables\n",
        "Y1_train = np.array(x_train[\"steering_angle\"])\n",
        "Y2_train = np.array(x_train[\"throttle%\"])\n",
        "\n",
        "Y1_test = np.array(x_test[\"steering_angle\"])\n",
        "Y2_test = np.array(x_test[\"throttle%\"])"
      ],
      "metadata": {
        "id": "kWb99j6N9pdp"
      },
      "execution_count": null,
      "outputs": []
    },
    {
      "cell_type": "code",
      "source": [
        "#isolate X values.  These are our independet variables, list of images\n",
        "\n",
        "x_train = x_train.drop([\"steering_angle\",\"throttle%\"], axis = 1)\n",
        "x_test = x_test.drop([\"steering_angle\",\"throttle%\"], axis = 1)\n",
        "\n"
      ],
      "metadata": {
        "id": "MA30Scn1-Ulh"
      },
      "execution_count": null,
      "outputs": []
    },
    {
      "cell_type": "code",
      "source": [
        "x_train = np.array(x_train[\"camera_image\"])\n",
        "x_test = np.array(x_test['camera_image'])"
      ],
      "metadata": {
        "id": "pzGq8uGm9EWI"
      },
      "execution_count": null,
      "outputs": []
    },
    {
      "cell_type": "code",
      "source": [
        "# augment data.  Basically take our images and increase them by a factor of about 3 for training purposes\n",
        "# the randomizer line on each transform allows for a 50% chance that each technique\n",
        "#   will be applied each time\n",
        "\n",
        "def augmentImage(imgPath, steering_angle):\n",
        "  img=mpimg.imread(imgPath)\n",
        "\n",
        "  #pan image\n",
        "  if np.random.rand()<0.5:\n",
        "    pan = iaa.Affine(translate_percent={'x':(-0.1,0.1), 'y':(-0.1,0.1)})\n",
        "    img = pan.augment_image(img)\n",
        "\n",
        "  #Zoom in on image by 20%\n",
        "  if np.random.rand()<0.5:\n",
        "    zoom=iaa.Affine(scale=(1,1.2))\n",
        "    img= zoom.augment_image(img)\n",
        "\n",
        "  #increase brightness\n",
        "  if np.random.rand()<0.5:\n",
        "    brightness = iaa.Multiply((0.4, 1.2))\n",
        "    img= brightness.augment_image(img)\n",
        "\n",
        "  #flip image\n",
        "  if np.random.rand()<0.5:\n",
        "    img = cv2.flip(img,1)\n",
        "    steering_angle=-steering_angle\n",
        "\n",
        "  return img, steering_angle"
      ],
      "metadata": {
        "id": "hwNyYz_8iIpt"
      },
      "execution_count": null,
      "outputs": []
    },
    {
      "cell_type": "code",
      "source": [
        "def preProcessing(img):\n",
        "  \n",
        "  #crops image, the goal is to get the road and nothing else.  Wil depend on camera placement\n",
        "  img= img[60:135,:,:]\n",
        "\n",
        "  #converts to an image that changes colors but helps the computer see lane lines\n",
        "  img = cv2.cvtColor(img, cv2.COLOR_RGB2YUV)\n",
        "\n",
        "  #blurs the image improving model performance\n",
        "  img =cv2.GaussianBlur(img, (3,3),0)\n",
        "\n",
        "  #resizes the image as this is what Nvidia trained on\n",
        "  img=cv2.resize(img, (200, 66))\n",
        "\n",
        "  #Normalizes image.  Changes color values from 0 to 255 to 0 to 1.  This is to ensure that no\n",
        "  # large numbers become more important on the model\n",
        "  img = img/255\n",
        "\n",
        "  return img\n",
        "\n"
      ],
      "metadata": {
        "id": "81P4zUa8hQ9k"
      },
      "execution_count": null,
      "outputs": []
    },
    {
      "cell_type": "code",
      "source": [
        "def batchGen(imagesPath, steeringList, throttleList, batchsize, trainFlag):\n",
        "  while True:\n",
        "    imgBatch = []\n",
        "    steeringBatch = []\n",
        "    throttleBatch = []\n",
        "\n",
        "    for i in range(batchsize):\n",
        "      index= random.randint(0, len(imagesPath)-1)\n",
        "      if trainFlag:\n",
        "        img, steering = augmentImage(imagesPath[index], steeringList[index])\n",
        "      else:\n",
        "        img=mpimg.imread(imagesPath[index])\n",
        "        steering=steeringList[index]\n",
        "      img = preProcessing(img)\n",
        "      imgBatch.append(img)\n",
        "      steeringBatch.append(steering)\n",
        "      throttleBatch.append(throttleList[index])\n",
        "\n",
        "    yield(np.asarray(imgBatch), [np.asarray(steeringBatch), np.asarray(throttleBatch)])\n",
        "\n"
      ],
      "metadata": {
        "id": "heI9d4DH2APs"
      },
      "execution_count": null,
      "outputs": []
    },
    {
      "cell_type": "code",
      "source": [
        "#load values into numpy array\n",
        "\n",
        "def load_img_steering(datadir, df):\n",
        "  image_path = []\n",
        "  steering = []\n",
        "  throttle = []\n",
        "  for i in range(len(data_map)):\n",
        "    indexed_data = data_map.iloc[i]\n",
        "    camera = indexed_data[0]\n",
        "    image_path.append(os.path.join(datadir, camera.strip()))\n",
        "    steering.append(float(indexed_data[1]))\n",
        "    throttle.append(float(indexed_data[2]))\n",
        "  image_paths = np.asarray(image_path)\n",
        "  steerings = np.asarray(steering)\n",
        "  throttles = np.asarray(throttle)\n",
        "  return image_paths, steerings, throttles\n",
        "\n",
        "image_paths, steerings, throttles = load_img_steering(datadir, data_map)"
      ],
      "metadata": {
        "id": "TmvavbLgxi_A"
      },
      "execution_count": null,
      "outputs": []
    },
    {
      "cell_type": "code",
      "source": [
        "from keras.layers.convolutional.base_separable_conv import Conv\n",
        "def createModel():\n",
        "  model = Sequential()\n",
        "\n",
        "  model.add(Convolution2D(24,(5,5),(2,2), input_shape=(66, 200, 3), activation='elu'))\n",
        "  model.add(Convolution2D(36,(5,5),(2,2), activation='elu'))\n",
        "  model.add(Convolution2D(48,(5,5),(2,2), activation='elu'))\n",
        "  model.add(Convolution2D(64,(3,3), activation='elu'))\n",
        "  model.add(Convolution2D(64,(3,3), activation='elu'))\n",
        "\n",
        "  model.add(Flatten())\n",
        "  model.add(Dense(100, activation='elu'))\n",
        "  model.add(Dense(50, activation='elu'))\n",
        "  model.add(Dense(10, activation='elu'))\n",
        "  model.add(Dense(2))\n",
        "\n",
        "  model.compile(Adam(lr=0.001), loss='mse')\n",
        "\n",
        "  return model\n",
        "\n"
      ],
      "metadata": {
        "id": "zaSFKBQE7QgG"
      },
      "execution_count": null,
      "outputs": []
    },
    {
      "cell_type": "code",
      "source": [
        "model=createModel()\n",
        "model.summary()"
      ],
      "metadata": {
        "colab": {
          "base_uri": "https://localhost:8080/"
        },
        "id": "6aqqi9x478DK",
        "outputId": "5fe30d7c-48cc-4db4-b240-119b942f6e6a"
      },
      "execution_count": null,
      "outputs": [
        {
          "output_type": "stream",
          "name": "stdout",
          "text": [
            "Model: \"sequential\"\n",
            "_________________________________________________________________\n",
            " Layer (type)                Output Shape              Param #   \n",
            "=================================================================\n",
            " conv2d (Conv2D)             (None, 31, 98, 24)        1824      \n",
            "                                                                 \n",
            " conv2d_1 (Conv2D)           (None, 14, 47, 36)        21636     \n",
            "                                                                 \n",
            " conv2d_2 (Conv2D)           (None, 5, 22, 48)         43248     \n",
            "                                                                 \n",
            " conv2d_3 (Conv2D)           (None, 3, 20, 64)         27712     \n",
            "                                                                 \n",
            " conv2d_4 (Conv2D)           (None, 1, 18, 64)         36928     \n",
            "                                                                 \n",
            " flatten (Flatten)           (None, 1152)              0         \n",
            "                                                                 \n",
            " dense (Dense)               (None, 100)               115300    \n",
            "                                                                 \n",
            " dense_1 (Dense)             (None, 50)                5050      \n",
            "                                                                 \n",
            " dense_2 (Dense)             (None, 10)                510       \n",
            "                                                                 \n",
            " dense_3 (Dense)             (None, 2)                 22        \n",
            "                                                                 \n",
            "=================================================================\n",
            "Total params: 252,230\n",
            "Trainable params: 252,230\n",
            "Non-trainable params: 0\n",
            "_________________________________________________________________\n"
          ]
        },
        {
          "output_type": "stream",
          "name": "stderr",
          "text": [
            "/usr/local/lib/python3.7/dist-packages/keras/optimizers/optimizer_v2/adam.py:110: UserWarning: The `lr` argument is deprecated, use `learning_rate` instead.\n",
            "  super(Adam, self).__init__(name, **kwargs)\n"
          ]
        }
      ]
    },
    {
      "cell_type": "code",
      "source": [
        "history=model.fit(batchGen(x_train, Y1_train, Y2_train, 10, 1), steps_per_epoch=20, epochs=2,\n",
        "          validation_data=batchGen(x_test, Y1_test, Y2_test, 10, 0), validation_steps=20)"
      ],
      "metadata": {
        "colab": {
          "base_uri": "https://localhost:8080/"
        },
        "id": "cHhz-cFJTNT6",
        "outputId": "e215fac2-d190-4747-b72d-7c24add80e47"
      },
      "execution_count": null,
      "outputs": [
        {
          "output_type": "stream",
          "name": "stdout",
          "text": [
            "Epoch 1/2\n",
            "20/20 [==============================] - 6s 266ms/step - loss: 64.6504 - val_loss: 84.9090\n",
            "Epoch 2/2\n",
            "20/20 [==============================] - 5s 253ms/step - loss: 93.3291 - val_loss: 79.1483\n"
          ]
        }
      ]
    },
    {
      "cell_type": "code",
      "source": [
        "model.save('model_get_the code_right.h5')"
      ],
      "metadata": {
        "id": "yyWziYeQt8wG"
      },
      "execution_count": null,
      "outputs": []
    },
    {
      "cell_type": "code",
      "source": [
        "plt.plot(history.history['loss'])\n",
        "plt.plot(history.history['val_loss'])\n",
        "plt.legend('Training', 'Validation')\n",
        "\n",
        "plt.title('loss')\n",
        "plt.xlabel('Epoch')\n",
        "plt.show()"
      ],
      "metadata": {
        "colab": {
          "base_uri": "https://localhost:8080/",
          "height": 711
        },
        "id": "AKvLjkzrDf0g",
        "outputId": "0f36f6f3-538d-4335-f61d-079f8ea64339"
      },
      "execution_count": null,
      "outputs": [
        {
          "output_type": "stream",
          "name": "stderr",
          "text": [
            "/usr/local/lib/python3.7/dist-packages/ipykernel_launcher.py:3: UserWarning: Legend does not support 'T' instances.\n",
            "A proxy artist may be used instead.\n",
            "See: http://matplotlib.org/users/legend_guide.html#creating-artists-specifically-for-adding-to-the-legend-aka-proxy-artists\n",
            "  This is separate from the ipykernel package so we can avoid doing imports until\n",
            "/usr/local/lib/python3.7/dist-packages/ipykernel_launcher.py:3: UserWarning: Legend does not support 'r' instances.\n",
            "A proxy artist may be used instead.\n",
            "See: http://matplotlib.org/users/legend_guide.html#creating-artists-specifically-for-adding-to-the-legend-aka-proxy-artists\n",
            "  This is separate from the ipykernel package so we can avoid doing imports until\n",
            "/usr/local/lib/python3.7/dist-packages/ipykernel_launcher.py:3: UserWarning: Legend does not support 'a' instances.\n",
            "A proxy artist may be used instead.\n",
            "See: http://matplotlib.org/users/legend_guide.html#creating-artists-specifically-for-adding-to-the-legend-aka-proxy-artists\n",
            "  This is separate from the ipykernel package so we can avoid doing imports until\n",
            "/usr/local/lib/python3.7/dist-packages/ipykernel_launcher.py:3: UserWarning: Legend does not support 'i' instances.\n",
            "A proxy artist may be used instead.\n",
            "See: http://matplotlib.org/users/legend_guide.html#creating-artists-specifically-for-adding-to-the-legend-aka-proxy-artists\n",
            "  This is separate from the ipykernel package so we can avoid doing imports until\n",
            "/usr/local/lib/python3.7/dist-packages/ipykernel_launcher.py:3: UserWarning: Legend does not support 'n' instances.\n",
            "A proxy artist may be used instead.\n",
            "See: http://matplotlib.org/users/legend_guide.html#creating-artists-specifically-for-adding-to-the-legend-aka-proxy-artists\n",
            "  This is separate from the ipykernel package so we can avoid doing imports until\n",
            "/usr/local/lib/python3.7/dist-packages/ipykernel_launcher.py:3: UserWarning: Legend does not support 'g' instances.\n",
            "A proxy artist may be used instead.\n",
            "See: http://matplotlib.org/users/legend_guide.html#creating-artists-specifically-for-adding-to-the-legend-aka-proxy-artists\n",
            "  This is separate from the ipykernel package so we can avoid doing imports until\n"
          ]
        },
        {
          "output_type": "display_data",
          "data": {
            "text/plain": [
              "<Figure size 432x288 with 1 Axes>"
            ],
            "image/png": "[encoded data removed]"
          },
          "metadata": {
            "needs_background": "light"
          }
        }
      ]
    },
    {
      "cell_type": "code",
      "source": [
        "def writepredictimages(image, framecount, predicted_steering, predicted_throttle):\n",
        "  \n",
        "  #this stores the images for  later review\n",
        "  camName=str(framecount) = '_cam_image_array.jpg'\n",
        "  camPath = os.path.join(data_dir, camName)\n",
        "  cv2.imwrite(camPath, image)\n",
        "\n"
      ],
      "metadata": {
        "id": "eT4K3q9rgFmi"
      },
      "execution_count": null,
      "outputs": []
    },
    {
      "cell_type": "code",
      "source": [
        "cap = cv2.VideoCapture(0)\n",
        "                       \n",
        "# Check if camera opened successfully\n",
        "if (cap.isOpened()== False): \n",
        "    print(\"Error opening video stream or file\")\n",
        "\n",
        "count=0\n",
        "record_list = []\n",
        "while(cap.isOpened()):\n",
        "  ret, frame =cap.read()\n",
        "  if ret == True:\n",
        "\n",
        "    img=np.asarray(frame)\n",
        "    img=preProcessing(img)\n",
        "\n",
        "    desired_steering, desired_throttle = float(model.predict(image))\n",
        "\n",
        "    print(\"Desired steering -> \"+ desired_steering, \" Desired throttle ->\"+ desired_throttle)\n",
        "    \n",
        "    # Display the resulting frame\n",
        "    cv2.imshow('Frame', frame)\n",
        "\n",
        "    writepredictimages(frame, count)\n",
        "    count+=1\n",
        "\n",
        "    \n",
        "\n",
        "    if cv2.WaitKey(25) & 0xFF == ord('q'):\n",
        "        break\n",
        "    # Break the loop\n",
        "  else: \n",
        "    break\n",
        " \n",
        "  "
      ],
      "metadata": {
        "id": "6iNdbqO6hXFK"
      },
      "execution_count": null,
      "outputs": []
    },
    {
      "cell_type": "code",
      "source": [],
      "metadata": {
        "id": "zFoWF23PX7JH"
      },
      "execution_count": null,
      "outputs": []
    }
  ]
}